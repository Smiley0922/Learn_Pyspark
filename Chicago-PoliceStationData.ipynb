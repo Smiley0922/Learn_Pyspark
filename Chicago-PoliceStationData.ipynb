{
 "cells": [
  {
   "cell_type": "code",
   "execution_count": 1,
   "id": "34ff8692",
   "metadata": {},
   "outputs": [],
   "source": [
    "#RDD\n",
    "from pyspark.sql.functions import to_timestamp, col, lit\n",
    "import pyspark\n",
    "from pyspark.sql import SparkSession\n",
    "from pyspark.sql.types import StructType,StructField, StringType, IntegerType\n",
    "from pyspark.sql.types import ArrayType, DoubleType, BooleanType\n",
    "from pyspark.sql.functions import col,array_contains"
   ]
  },
  {
   "cell_type": "code",
   "execution_count": 6,
   "id": "ed4ce8d7",
   "metadata": {},
   "outputs": [],
   "source": [
    "import findspark\n",
    "findspark.init()\n",
    "from pyspark import SparkContext\n",
    "sc= SparkContext.getOrCreate()"
   ]
  },
  {
   "cell_type": "code",
   "execution_count": 10,
   "id": "8dd85b9f",
   "metadata": {},
   "outputs": [],
   "source": [
    "ps_rdd = sc.textFile('/Users/Vijayashanthi_Dhodam/Downloads/Police_Stations.csv')"
   ]
  },
  {
   "cell_type": "code",
   "execution_count": 13,
   "id": "d03c2b1a",
   "metadata": {},
   "outputs": [
    {
     "data": {
      "text/plain": [
       "'DISTRICT,DISTRICT NAME,ADDRESS,CITY,STATE,ZIP,WEBSITE,PHONE,FAX,TTY,X COORDINATE,Y COORDINATE,LATITUDE,LONGITUDE,LOCATION'"
      ]
     },
     "execution_count": 13,
     "metadata": {},
     "output_type": "execute_result"
    }
   ],
   "source": [
    "ps_rdd.first()"
   ]
  },
  {
   "cell_type": "code",
   "execution_count": 14,
   "id": "29f62121",
   "metadata": {},
   "outputs": [],
   "source": [
    "ps_header = ps_rdd.first()"
   ]
  },
  {
   "cell_type": "code",
   "execution_count": 17,
   "id": "ee8a2ba2",
   "metadata": {},
   "outputs": [
    {
     "data": {
      "text/plain": [
       "'Headquarters,Headquarters,3510 S Michigan Ave,Chicago,IL,60653,http://home.chicagopolice.org,,,,1177731.401,1881697.404,41.83070169,-87.62339535,\"(41.8307016873, -87.6233953459)\"'"
      ]
     },
     "execution_count": 17,
     "metadata": {},
     "output_type": "execute_result"
    }
   ],
   "source": [
    "ps_rest = ps_rdd.filter(lambda line: line != ps_header)\n",
    "ps_rest.first()"
   ]
  },
  {
   "cell_type": "code",
   "execution_count": 19,
   "id": "126e25d4",
   "metadata": {},
   "outputs": [
    {
     "data": {
      "text/plain": [
       "24"
      ]
     },
     "execution_count": 19,
     "metadata": {},
     "output_type": "execute_result"
    }
   ],
   "source": [
    "#How many police stations are there\n",
    "ps_rest.map(lambda line: line.split(',')).count()#collect()"
   ]
  },
  {
   "cell_type": "code",
   "execution_count": 25,
   "id": "849efdcb",
   "metadata": {},
   "outputs": [
    {
     "data": {
      "text/plain": [
       "[('7', 'Englewood', '1438 W 63rd St', '60636')]"
      ]
     },
     "execution_count": 25,
     "metadata": {},
     "output_type": "execute_result"
    }
   ],
   "source": [
    "#Display the District ID, District name, Address and Zip for the police station with District ID 7\n",
    "(ps_rest.filter(lambda line: line.split(',')[0] == '7').\n",
    "    map(lambda line: (line.split(',')[0],\n",
    "                     line.split(',')[1],\n",
    "                     line.split(',')[2],\n",
    "                     line.split(',')[5]\n",
    "                       )).collect())"
   ]
  },
  {
   "cell_type": "code",
   "execution_count": 28,
   "id": "0f318bb3",
   "metadata": {},
   "outputs": [
    {
     "data": {
      "text/plain": [
       "[('10', 'Ogden', '3315 W Ogden Ave', '60623'),\n",
       " ('11', 'Harrison', '3151 W Harrison St', '60612')]"
      ]
     },
     "execution_count": 28,
     "metadata": {},
     "output_type": "execute_result"
    }
   ],
   "source": [
    "#Police stations 10 and 11 are geographically close to each other. Display the District ID, District name, address and zip code\n",
    "(ps_rest.filter(lambda line: line.split(',')[0] in ['10','11']).\n",
    "    map(lambda line: (line.split(',')[0],\n",
    "                     line.split(',')[1],\n",
    "                     line.split(',')[2],\n",
    "                     line.split(',')[5]\n",
    "                       )).collect())"
   ]
  },
  {
   "cell_type": "code",
   "execution_count": null,
   "id": "8d1a4bd7",
   "metadata": {},
   "outputs": [],
   "source": []
  }
 ],
 "metadata": {
  "kernelspec": {
   "display_name": "Python 3 (ipykernel)",
   "language": "python",
   "name": "python3"
  },
  "language_info": {
   "codemirror_mode": {
    "name": "ipython",
    "version": 3
   },
   "file_extension": ".py",
   "mimetype": "text/x-python",
   "name": "python",
   "nbconvert_exporter": "python",
   "pygments_lexer": "ipython3",
   "version": "3.9.12"
  }
 },
 "nbformat": 4,
 "nbformat_minor": 5
}
