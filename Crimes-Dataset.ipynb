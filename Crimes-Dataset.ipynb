{
 "cells": [
  {
   "cell_type": "code",
   "execution_count": 53,
   "id": "a3bb5601",
   "metadata": {},
   "outputs": [],
   "source": [
    "from pyspark.sql.functions import to_timestamp, col, lit\n",
    "import pyspark\n",
    "from pyspark.sql import SparkSession\n",
    "from pyspark.sql.types import StructType,StructField, StringType, IntegerType\n",
    "from pyspark.sql.types import ArrayType, DoubleType, BooleanType\n",
    "from pyspark.sql.functions import col,array_contains"
   ]
  },
  {
   "cell_type": "code",
   "execution_count": 54,
   "id": "19a11bc9",
   "metadata": {},
   "outputs": [
    {
     "name": "stdout",
     "output_type": "stream",
     "text": [
      "+--------+-----------+-------------------+---------------------+----+------------+-----------------------+--------------------+------+--------+----+--------+----+--------------+--------+------------+------------+----+----------------------+------------+-------------+-----------------------------+\n",
      "|ID      |Case Number|Date               |Block                |IUCR|Primary Type|Description            |Location Description|Arrest|Domestic|Beat|District|Ward|Community Area|FBI Code|X Coordinate|Y Coordinate|Year|Updated On            |Latitude    |Longitude    |Location                     |\n",
      "+--------+-----------+-------------------+---------------------+----+------------+-----------------------+--------------------+------+--------+----+--------+----+--------------+--------+------------+------------+----+----------------------+------------+-------------+-----------------------------+\n",
      "|10224738|HY411648   |2015-09-05 13:30:00|043XX S WOOD ST      |0486|BATTERY     |DOMESTIC BATTERY SIMPLE|RESIDENCE           |false |true    |0924|009     |12  |61            |08B     |1165074     |1875917     |2015|02/10/2018 03:50:01 PM|41.815117282|-87.669999562|(41.815117282, -87.669999562)|\n",
      "|10224739|HY411615   |2015-09-04 11:30:00|008XX N CENTRAL AVE  |0870|THEFT       |POCKET-PICKING         |CTA BUS             |false |false   |1511|015     |29  |25            |06      |1138875     |1904869     |2015|02/10/2018 03:50:01 PM|41.895080471|-87.765400451|(41.895080471, -87.765400451)|\n",
      "|11646166|JC213529   |2018-09-01 00:01:00|082XX S INGLESIDE AVE|0810|THEFT       |OVER $500              |RESIDENCE           |false |true    |0631|006     |8   |44            |06      |null        |null        |2018|04/06/2019 04:04:43 PM|null        |null         |null                         |\n",
      "+--------+-----------+-------------------+---------------------+----+------------+-----------------------+--------------------+------+--------+----+--------+----+--------------+--------+------------+------------+----+----------------------+------------+-------------+-----------------------------+\n",
      "only showing top 3 rows\n",
      "\n"
     ]
    }
   ],
   "source": [
    "spark = SparkSession.builder.appName('SparkByExamples.com').getOrCreate()\n",
    "rc= spark.read.csv('/Users/Vijayashanthi_Dhodam/Downloads/Crimes_-_2001_to_Present.csv',header=True).withColumn('Date',to_timestamp(col('Date'),'MM/dd/yyyy hh:mm:ss a'))#.filter(col('Date'))\n",
    "rc.show(n=3,truncate=False)#,vertical=True)"
   ]
  },
  {
   "cell_type": "code",
   "execution_count": 3,
   "id": "3ed56554",
   "metadata": {},
   "outputs": [
    {
     "name": "stdout",
     "output_type": "stream",
     "text": [
      "root\n",
      " |-- ID: string (nullable = true)\n",
      " |-- Case Number: string (nullable = true)\n",
      " |-- Date: timestamp (nullable = true)\n",
      " |-- Block: string (nullable = true)\n",
      " |-- IUCR: string (nullable = true)\n",
      " |-- Primary Type: string (nullable = true)\n",
      " |-- Description: string (nullable = true)\n",
      " |-- Location Description: string (nullable = true)\n",
      " |-- Arrest: string (nullable = true)\n",
      " |-- Domestic: string (nullable = true)\n",
      " |-- Beat: string (nullable = true)\n",
      " |-- District: string (nullable = true)\n",
      " |-- Ward: string (nullable = true)\n",
      " |-- Community Area: string (nullable = true)\n",
      " |-- FBI Code: string (nullable = true)\n",
      " |-- X Coordinate: string (nullable = true)\n",
      " |-- Y Coordinate: string (nullable = true)\n",
      " |-- Year: string (nullable = true)\n",
      " |-- Updated On: string (nullable = true)\n",
      " |-- Latitude: string (nullable = true)\n",
      " |-- Longitude: string (nullable = true)\n",
      " |-- Location: string (nullable = true)\n",
      "\n",
      "['ID', 'Case Number', 'Date', 'Block', 'IUCR', 'Primary Type', 'Description', 'Location Description', 'Arrest', 'Domestic', 'Beat', 'District', 'Ward', 'Community Area', 'FBI Code', 'X Coordinate', 'Y Coordinate', 'Year', 'Updated On', 'Latitude', 'Longitude', 'Location']\n"
     ]
    }
   ],
   "source": [
    "rc.printSchema()\n",
    "print(rc.columns)\n",
    "#['ID', 'Case Number', 'Date', 'Block', 'IUCR', 'Primary Type', 'Description', 'Location Description', 'Arrest', 'Domestic', 'Beat', 'District', 'Ward', 'Community Area', 'FBI Code', 'X Coordinate', 'Y Coordinate', 'Year', 'Updated On', 'Latitude', 'Longitude', 'Location']\n",
    "\n"
   ]
  },
  {
   "cell_type": "code",
   "execution_count": 4,
   "id": "187843f6",
   "metadata": {},
   "outputs": [],
   "source": [
    "from pyspark.sql.types import StructType, StructField, StringType,IntegerType, TimestampType, BooleanType, DoubleType\n",
    "\n"
   ]
  },
  {
   "cell_type": "code",
   "execution_count": 5,
   "id": "7202ac51",
   "metadata": {},
   "outputs": [],
   "source": [
    "labels = [\n",
    "     ('ID',StringType()),\n",
    "     ('Case Number',StringType()),\n",
    "     ('Date',TimestampType()),\n",
    "     ('Block',StringType()),\n",
    "     ('IUCR',StringType()),\n",
    "     ('Primary Type',StringType()),\n",
    "     ('Description',StringType()),\n",
    "     ('Location Description',StringType()),\n",
    "     ('Arrest',StringType()),\n",
    "     ('Domestic',BooleanType()),\n",
    "     ('Beat',StringType()),\n",
    "     ('District',StringType()),\n",
    "     ('Ward',StringType()),\n",
    "     ('Community Area',StringType()),\n",
    "     ('FBI Code',StringType()),\n",
    "     ('X Coordinate',StringType()),\n",
    "     ('Y Coordinate',StringType()),\n",
    "     ('Year',IntegerType()),\n",
    "     ('Updated On',StringType()),\n",
    "     ('Latitude',DoubleType()),\n",
    "     ('Longitude',DoubleType()),\n",
    "     ('Location', StringType())\n",
    "]\n"
   ]
  },
  {
   "cell_type": "code",
   "execution_count": 6,
   "id": "db3293ae",
   "metadata": {},
   "outputs": [],
   "source": [
    "schema = StructType([StructField(x[0],x[1],True) for x in labels])\n",
    "#print(schema)"
   ]
  },
  {
   "cell_type": "code",
   "execution_count": 7,
   "id": "7c4d5e8d",
   "metadata": {},
   "outputs": [
    {
     "name": "stdout",
     "output_type": "stream",
     "text": [
      "root\n",
      " |-- ID: string (nullable = true)\n",
      " |-- Case Number: string (nullable = true)\n",
      " |-- Date: timestamp (nullable = true)\n",
      " |-- Block: string (nullable = true)\n",
      " |-- IUCR: string (nullable = true)\n",
      " |-- Primary Type: string (nullable = true)\n",
      " |-- Description: string (nullable = true)\n",
      " |-- Location Description: string (nullable = true)\n",
      " |-- Arrest: string (nullable = true)\n",
      " |-- Domestic: boolean (nullable = true)\n",
      " |-- Beat: string (nullable = true)\n",
      " |-- District: string (nullable = true)\n",
      " |-- Ward: string (nullable = true)\n",
      " |-- Community Area: string (nullable = true)\n",
      " |-- FBI Code: string (nullable = true)\n",
      " |-- X Coordinate: string (nullable = true)\n",
      " |-- Y Coordinate: string (nullable = true)\n",
      " |-- Year: integer (nullable = true)\n",
      " |-- Updated On: string (nullable = true)\n",
      " |-- Latitude: double (nullable = true)\n",
      " |-- Longitude: double (nullable = true)\n",
      " |-- Location: string (nullable = true)\n",
      "\n"
     ]
    }
   ],
   "source": [
    "rc1 = spark.read.csv('/Users/Vijayashanthi_Dhodam/Downloads/Crimes_-_2001_to_Present.csv', schema= schema)#,header=True).withColumn('Date',to_timestamp(col('Date'),'MM/dd/yyyy hh:mm:ss a'))#.fillna()\n",
    "rc1.printSchema()"
   ]
  },
  {
   "cell_type": "code",
   "execution_count": 8,
   "id": "c1d39bb2",
   "metadata": {},
   "outputs": [
    {
     "name": "stdout",
     "output_type": "stream",
     "text": [
      "+--------+-----------+----+--------------------+\n",
      "|      ID|Case Number|Date|               Block|\n",
      "+--------+-----------+----+--------------------+\n",
      "|      ID|Case Number|null|               Block|\n",
      "|10224738|   HY411648|null|     043XX S WOOD ST|\n",
      "|10224739|   HY411615|null| 008XX N CENTRAL AVE|\n",
      "|11646166|   JC213529|null|082XX S INGLESIDE...|\n",
      "+--------+-----------+----+--------------------+\n",
      "only showing top 4 rows\n",
      "\n"
     ]
    }
   ],
   "source": [
    "#working with columns\n",
    "rc1.select('ID', 'Case Number', 'Date','Block').show(4)"
   ]
  },
  {
   "cell_type": "code",
   "execution_count": 9,
   "id": "d58e967f",
   "metadata": {},
   "outputs": [
    {
     "name": "stdout",
     "output_type": "stream",
     "text": [
      "-RECORD 0---------------------------------------------\n",
      " ID                   | ID                            \n",
      " Case Number          | Case Number                   \n",
      " Date                 | null                          \n",
      " Block                | Block                         \n",
      " IUCR                 | IUCR                          \n",
      " Primary Type         | Primary Type                  \n",
      " Description          | Description                   \n",
      " Location Description | Location Description          \n",
      " Arrest               | Arrest                        \n",
      " Domestic             | null                          \n",
      " Beat                 | Beat                          \n",
      " District             | District                      \n",
      " Ward                 | Ward                          \n",
      " Community Area       | Community Area                \n",
      " FBI Code             | FBI Code                      \n",
      " X Coordinate         | X Coordinate                  \n",
      " Y Coordinate         | Y Coordinate                  \n",
      " Year                 | null                          \n",
      " Updated On           | Updated On                    \n",
      " Latitude             | null                          \n",
      " Longitude            | null                          \n",
      " Location             | Location                      \n",
      " Sha                  | 22                            \n",
      "-RECORD 1---------------------------------------------\n",
      " ID                   | 10224738                      \n",
      " Case Number          | HY411648                      \n",
      " Date                 | null                          \n",
      " Block                | 043XX S WOOD ST               \n",
      " IUCR                 | 0486                          \n",
      " Primary Type         | BATTERY                       \n",
      " Description          | DOMESTIC BATTERY SIMPLE       \n",
      " Location Description | RESIDENCE                     \n",
      " Arrest               | false                         \n",
      " Domestic             | true                          \n",
      " Beat                 | 0924                          \n",
      " District             | 009                           \n",
      " Ward                 | 12                            \n",
      " Community Area       | 61                            \n",
      " FBI Code             | 08B                           \n",
      " X Coordinate         | 1165074                       \n",
      " Y Coordinate         | 1875917                       \n",
      " Year                 | 2015                          \n",
      " Updated On           | 02/10/2018 03:50:01 PM        \n",
      " Latitude             | 41.815117282                  \n",
      " Longitude            | -87.669999562                 \n",
      " Location             | (41.815117282, -87.669999562) \n",
      " Sha                  | 22                            \n",
      "-RECORD 2---------------------------------------------\n",
      " ID                   | 10224739                      \n",
      " Case Number          | HY411615                      \n",
      " Date                 | null                          \n",
      " Block                | 008XX N CENTRAL AVE           \n",
      " IUCR                 | 0870                          \n",
      " Primary Type         | THEFT                         \n",
      " Description          | POCKET-PICKING                \n",
      " Location Description | CTA BUS                       \n",
      " Arrest               | false                         \n",
      " Domestic             | false                         \n",
      " Beat                 | 1511                          \n",
      " District             | 015                           \n",
      " Ward                 | 29                            \n",
      " Community Area       | 25                            \n",
      " FBI Code             | 06                            \n",
      " X Coordinate         | 1138875                       \n",
      " Y Coordinate         | 1904869                       \n",
      " Year                 | 2015                          \n",
      " Updated On           | 02/10/2018 03:50:01 PM        \n",
      " Latitude             | 41.895080471                  \n",
      " Longitude            | -87.765400451                 \n",
      " Location             | (41.895080471, -87.765400451) \n",
      " Sha                  | 22                            \n",
      "only showing top 3 rows\n",
      "\n"
     ]
    }
   ],
   "source": [
    "#add lit to create a new column\n",
    "rc1.withColumn('Sha',lit(22)).show(3, truncate = False, vertical=True)\n"
   ]
  },
  {
   "cell_type": "code",
   "execution_count": 10,
   "id": "756302b4",
   "metadata": {},
   "outputs": [],
   "source": [
    "#working with rows\n",
    "oneday = spark.read.csv('/Users/Vijayashanthi_Dhodam/Downloads/Crimes_-_2001_to_Present.csv', header= True).withColumn('Date',to_timestamp(col('Date'),'MM/dd/yyyy hh:mm:ss a')).filter(col('Date')== lit('2018-11-12'))\n",
    "#print(oneday.count())\n",
    "#rc1.union(oneday).orderBy('Date',ascending=False).show(5)"
   ]
  },
  {
   "cell_type": "code",
   "execution_count": 11,
   "id": "5246e428",
   "metadata": {},
   "outputs": [
    {
     "name": "stderr",
     "output_type": "stream",
     "text": [
      "[Stage 5:=====================================>                    (9 + 5) / 14]\r"
     ]
    },
    {
     "name": "stdout",
     "output_type": "stream",
     "text": [
      "+-------------------+-------+\n",
      "|       Primary Type|  count|\n",
      "+-------------------+-------+\n",
      "|              THEFT|1603987|\n",
      "|            BATTERY|1395431|\n",
      "|    CRIMINAL DAMAGE| 867153|\n",
      "|          NARCOTICS| 743574|\n",
      "|            ASSAULT| 492991|\n",
      "|      OTHER OFFENSE| 473611|\n",
      "|           BURGLARY| 419117|\n",
      "|MOTOR VEHICLE THEFT| 354051|\n",
      "| DECEPTIVE PRACTICE| 332003|\n",
      "|            ROBBERY| 285732|\n",
      "+-------------------+-------+\n",
      "only showing top 10 rows\n",
      "\n"
     ]
    },
    {
     "name": "stderr",
     "output_type": "stream",
     "text": [
      "\r",
      "                                                                                \r"
     ]
    }
   ],
   "source": [
    "#rc1.groupBy('Primary Type').count().show()\n",
    "rc1.groupBy('Primary Type').count().orderBy('count', ascending=False).show(10)"
   ]
  },
  {
   "cell_type": "code",
   "execution_count": 12,
   "id": "fc014249",
   "metadata": {},
   "outputs": [
    {
     "name": "stderr",
     "output_type": "stream",
     "text": [
      "                                                                                \r"
     ]
    },
    {
     "name": "stdout",
     "output_type": "stream",
     "text": [
      "+------+\n",
      "|Arrest|\n",
      "+------+\n",
      "|Arrest|\n",
      "| false|\n",
      "|  true|\n",
      "+------+\n",
      "\n"
     ]
    },
    {
     "name": "stderr",
     "output_type": "stream",
     "text": [
      "[Stage 14:====================================>                    (9 + 5) / 14]\r"
     ]
    },
    {
     "name": "stdout",
     "output_type": "stream",
     "text": [
      "0.2647051672691216\n"
     ]
    },
    {
     "name": "stderr",
     "output_type": "stream",
     "text": [
      "\r",
      "                                                                                \r"
     ]
    }
   ],
   "source": [
    "#challange\n",
    "#what percentage of reported crimes resulted in an arrest\n",
    "rc1.select('Arrest').distinct().show()\n",
    "x= rc1.filter(col('Arrest')== 'true').count() / rc1.select('Arrest').count()\n",
    "print(x)"
   ]
  },
  {
   "cell_type": "code",
   "execution_count": 13,
   "id": "9ad045fb",
   "metadata": {},
   "outputs": [
    {
     "name": "stderr",
     "output_type": "stream",
     "text": [
      "[Stage 17:================================================>       (12 + 2) / 14]\r"
     ]
    },
    {
     "name": "stdout",
     "output_type": "stream",
     "text": [
      "+--------------------+-------+\n",
      "|Location Description|  count|\n",
      "+--------------------+-------+\n",
      "|              STREET|1974015|\n",
      "|           RESIDENCE|1283754|\n",
      "|           APARTMENT| 847108|\n",
      "+--------------------+-------+\n",
      "only showing top 3 rows\n",
      "\n"
     ]
    },
    {
     "name": "stderr",
     "output_type": "stream",
     "text": [
      "\r",
      "                                                                                \r"
     ]
    }
   ],
   "source": [
    "\n",
    "#what are 3 top locations for reported crimes\n",
    "rc1.groupBy('Location Description').count().orderBy('count', ascending=False).show(3)"
   ]
  },
  {
   "cell_type": "code",
   "execution_count": 15,
   "id": "eaa3c377",
   "metadata": {},
   "outputs": [
    {
     "name": "stdout",
     "output_type": "stream",
     "text": [
      "+-------------------+-------------------+-----------------------------+\n",
      "|lower(Primary Type)|upper(Primary Type)|substring(Primary Type, 1, 3)|\n",
      "+-------------------+-------------------+-----------------------------+\n",
      "|       primary type|       PRIMARY TYPE|                          Pri|\n",
      "|            battery|            BATTERY|                          BAT|\n",
      "|              theft|              THEFT|                          THE|\n",
      "|              theft|              THEFT|                          THE|\n",
      "|          narcotics|          NARCOTICS|                          NAR|\n",
      "+-------------------+-------------------+-----------------------------+\n",
      "only showing top 5 rows\n",
      "\n"
     ]
    }
   ],
   "source": [
    "# Built in Functions\n",
    "#Display the Primary Key column in lower and upper characters, and the first 4 chars of the column\n",
    "from pyspark.sql.functions import lower, upper, substring\n",
    "rc1.select(lower(col('Primary Type')),upper(col('Primary Type')),substring(col('Primary Type'),1,3)).show(5)\n"
   ]
  },
  {
   "cell_type": "code",
   "execution_count": 16,
   "id": "6fdf3f12",
   "metadata": {},
   "outputs": [
    {
     "name": "stderr",
     "output_type": "stream",
     "text": [
      "[Stage 22:====================================================>   (13 + 1) / 14]\r"
     ]
    },
    {
     "name": "stdout",
     "output_type": "stream",
     "text": [
      "+---------+---------+\n",
      "|min(Date)|max(Date)|\n",
      "+---------+---------+\n",
      "|     null|     null|\n",
      "+---------+---------+\n",
      "\n"
     ]
    },
    {
     "name": "stderr",
     "output_type": "stream",
     "text": [
      "\r",
      "                                                                                \r"
     ]
    }
   ],
   "source": [
    "#Numberic Function\n",
    "#Show the oldest date and the most recent date\n",
    "from pyspark.sql.functions import min,max\n",
    "rc1.select(min(col('Date')), max(col('Date'))).show(1)"
   ]
  },
  {
   "cell_type": "code",
   "execution_count": 17,
   "id": "a222e964",
   "metadata": {
    "scrolled": true
   },
   "outputs": [
    {
     "name": "stdout",
     "output_type": "stream",
     "text": [
      "Help on function date_sub in module pyspark.sql.functions:\n",
      "\n",
      "date_sub(start: 'ColumnOrName', days: Union[ForwardRef('ColumnOrName'), int]) -> pyspark.sql.column.Column\n",
      "    Returns the date that is `days` days before `start`\n",
      "    \n",
      "    .. versionadded:: 1.5.0\n",
      "    \n",
      "    Examples\n",
      "    --------\n",
      "    >>> df = spark.createDataFrame([('2015-04-08', 2,)], ['dt', 'sub'])\n",
      "    >>> df.select(date_sub(df.dt, 1).alias('prev_date')).collect()\n",
      "    [Row(prev_date=datetime.date(2015, 4, 7))]\n",
      "    >>> df.select(date_sub(df.dt, df.sub.cast('integer')).alias('prev_date')).collect()\n",
      "    [Row(prev_date=datetime.date(2015, 4, 6))]\n",
      "\n"
     ]
    },
    {
     "name": "stderr",
     "output_type": "stream",
     "text": [
      "[Stage 25:====================================================>   (13 + 1) / 14]\r"
     ]
    },
    {
     "name": "stdout",
     "output_type": "stream",
     "text": [
      "+----------------------+----------------------+\n",
      "|date_sub(min(Date), 3)|date_add(max(Date), 3)|\n",
      "+----------------------+----------------------+\n",
      "|                  null|                  null|\n",
      "+----------------------+----------------------+\n",
      "\n"
     ]
    },
    {
     "name": "stderr",
     "output_type": "stream",
     "text": [
      "\r",
      "                                                                                \r"
     ]
    }
   ],
   "source": [
    "# Date\n",
    "# what is 3 days earlier than the oldest date and 3 days later than the most recent data\n",
    "from pyspark.sql.functions import date_sub, date_add\n",
    "help(date_sub)\n",
    "\n",
    "rc1.select(date_sub(min(col('Date')),3), date_add(max(col('Date')),3)).show(1)"
   ]
  },
  {
   "cell_type": "code",
   "execution_count": 55,
   "id": "6644aa22",
   "metadata": {},
   "outputs": [
    {
     "name": "stdout",
     "output_type": "stream",
     "text": [
      "+------------+-------------+-------------------+-------+-----+-----+-----------------------------+-----+----+----+------------+------------+-----------+------------+-------------------------------+\n",
      "|DISTRICT    |DISTRICT NAME|ADDRESS            |CITY   |STATE|ZIP  |WEBSITE                      |PHONE|FAX |TTY |X COORDINATE|Y COORDINATE|LATITUDE   |LONGITUDE   |LOCATION                       |\n",
      "+------------+-------------+-------------------+-------+-----+-----+-----------------------------+-----+----+----+------------+------------+-----------+------------+-------------------------------+\n",
      "|Headquarters|Headquarters |3510 S Michigan Ave|Chicago|IL   |60653|http://home.chicagopolice.org|null |null|null|1177731.401 |1881697.404 |41.83070169|-87.62339535|(41.8307016873, -87.6233953459)|\n",
      "+------------+-------------+-------------------+-------+-----+-----+-----------------------------+-----+----+----+------------+------------+-----------+------------+-------------------------------+\n",
      "only showing top 1 row\n",
      "\n"
     ]
    }
   ],
   "source": [
    "ps = spark.read.csv('/Users/Vijayashanthi_Dhodam/Downloads/Police_Stations.csv', header= True)\n",
    "ps.show(1, truncate=False)"
   ]
  },
  {
   "cell_type": "code",
   "execution_count": 19,
   "id": "a4c0d8f3",
   "metadata": {},
   "outputs": [
    {
     "name": "stdout",
     "output_type": "stream",
     "text": [
      "root\n",
      " |-- DISTRICT: string (nullable = true)\n",
      " |-- DISTRICT NAME: string (nullable = true)\n",
      " |-- ADDRESS: string (nullable = true)\n",
      " |-- CITY: string (nullable = true)\n",
      " |-- STATE: string (nullable = true)\n",
      " |-- ZIP: string (nullable = true)\n",
      " |-- WEBSITE: string (nullable = true)\n",
      " |-- PHONE: string (nullable = true)\n",
      " |-- FAX: string (nullable = true)\n",
      " |-- TTY: string (nullable = true)\n",
      " |-- X COORDINATE: string (nullable = true)\n",
      " |-- Y COORDINATE: string (nullable = true)\n",
      " |-- LATITUDE: string (nullable = true)\n",
      " |-- LONGITUDE: string (nullable = true)\n",
      " |-- LOCATION: string (nullable = true)\n",
      "\n"
     ]
    }
   ],
   "source": [
    "ps.printSchema()"
   ]
  },
  {
   "cell_type": "code",
   "execution_count": 20,
   "id": "fe445ae9",
   "metadata": {},
   "outputs": [
    {
     "name": "stderr",
     "output_type": "stream",
     "text": [
      "\r",
      "[Stage 30:>                                                        (0 + 8) / 14]\r"
     ]
    },
    {
     "name": "stdout",
     "output_type": "stream",
     "text": [
      "22/08/23 16:40:01 WARN MemoryStore: Not enough space to cache rdd_107_2 in memory! (computed 44.6 MiB so far)\n",
      "22/08/23 16:40:01 WARN MemoryStore: Not enough space to cache rdd_107_3 in memory! (computed 43.8 MiB so far)\n",
      "22/08/23 16:40:01 WARN MemoryStore: Not enough space to cache rdd_107_1 in memory! (computed 44.1 MiB so far)\n",
      "22/08/23 16:40:01 WARN BlockManager: Persisting block rdd_107_1 to disk instead.\n",
      "22/08/23 16:40:01 WARN BlockManager: Persisting block rdd_107_2 to disk instead.\n",
      "22/08/23 16:40:01 WARN BlockManager: Persisting block rdd_107_3 to disk instead.\n",
      "22/08/23 16:40:02 WARN MemoryStore: Not enough space to cache rdd_107_4 in memory! (computed 43.8 MiB so far)\n",
      "22/08/23 16:40:02 WARN BlockManager: Persisting block rdd_107_4 to disk instead.\n",
      "22/08/23 16:40:02 WARN MemoryStore: Not enough space to cache rdd_107_6 in memory! (computed 43.8 MiB so far)\n",
      "22/08/23 16:40:02 WARN BlockManager: Persisting block rdd_107_6 to disk instead.\n",
      "22/08/23 16:40:02 WARN MemoryStore: Not enough space to cache rdd_107_7 in memory! (computed 43.9 MiB so far)\n",
      "22/08/23 16:40:02 WARN BlockManager: Persisting block rdd_107_7 to disk instead.\n"
     ]
    },
    {
     "name": "stderr",
     "output_type": "stream",
     "text": [
      "\r",
      "[Stage 30:>                                                       (0 + 10) / 14]\r",
      "\r",
      "[Stage 30:========>                                                (2 + 8) / 14]\r"
     ]
    },
    {
     "name": "stdout",
     "output_type": "stream",
     "text": [
      "22/08/23 16:40:26 WARN MemoryStore: Not enough space to cache rdd_107_6 in memory! (computed 43.8 MiB so far)\n",
      "22/08/23 16:40:26 WARN MemoryStore: Not enough space to cache rdd_107_4 in memory! (computed 43.8 MiB so far)\n",
      "22/08/23 16:40:26 WARN MemoryStore: Not enough space to cache rdd_107_1 in memory! (computed 44.1 MiB so far)\n"
     ]
    },
    {
     "name": "stderr",
     "output_type": "stream",
     "text": [
      "[Stage 30:============================>                            (7 + 7) / 14]\r"
     ]
    },
    {
     "name": "stdout",
     "output_type": "stream",
     "text": [
      "22/08/23 16:40:27 WARN MemoryStore: Not enough space to cache rdd_107_2 in memory! (computed 44.6 MiB so far)\n"
     ]
    },
    {
     "name": "stderr",
     "output_type": "stream",
     "text": [
      "\r",
      "[Stage 30:================================>                        (8 + 6) / 14]\r"
     ]
    },
    {
     "name": "stdout",
     "output_type": "stream",
     "text": [
      "22/08/23 16:40:37 WARN MemoryStore: Not enough space to cache rdd_107_9 in memory! (computed 22.6 MiB so far)\n",
      "22/08/23 16:40:37 WARN MemoryStore: Not enough space to cache rdd_107_8 in memory! (computed 22.6 MiB so far)\n",
      "22/08/23 16:40:37 WARN BlockManager: Persisting block rdd_107_8 to disk instead.\n",
      "22/08/23 16:40:37 WARN BlockManager: Persisting block rdd_107_9 to disk instead.\n",
      "22/08/23 16:40:37 WARN MemoryStore: Not enough space to cache rdd_107_12 in memory! (computed 22.8 MiB so far)\n",
      "22/08/23 16:40:37 WARN BlockManager: Persisting block rdd_107_12 to disk instead.\n",
      "22/08/23 16:40:37 WARN MemoryStore: Not enough space to cache rdd_107_10 in memory! (computed 22.6 MiB so far)\n",
      "22/08/23 16:40:37 WARN MemoryStore: Not enough space to cache rdd_107_13 in memory! (computed 22.5 MiB so far)\n",
      "22/08/23 16:40:37 WARN BlockManager: Persisting block rdd_107_13 to disk instead.\n",
      "22/08/23 16:40:37 WARN BlockManager: Persisting block rdd_107_10 to disk instead.\n",
      "22/08/23 16:40:40 WARN MemoryStore: Not enough space to cache rdd_107_13 in memory! (computed 22.5 MiB so far)\n"
     ]
    },
    {
     "name": "stderr",
     "output_type": "stream",
     "text": [
      "\r",
      "[Stage 30:====================================>                    (9 + 5) / 14]\r"
     ]
    },
    {
     "name": "stdout",
     "output_type": "stream",
     "text": [
      "22/08/23 16:40:46 WARN MemoryStore: Not enough space to cache rdd_107_11 in memory! (computed 43.6 MiB so far)\n",
      "22/08/23 16:40:46 WARN BlockManager: Persisting block rdd_107_11 to disk instead.\n",
      "22/08/23 16:41:15 WARN MemoryStore: Not enough space to cache rdd_107_11 in memory! (computed 43.6 MiB so far)\n"
     ]
    },
    {
     "name": "stderr",
     "output_type": "stream",
     "text": [
      "\r",
      "[Stage 30:========================================>               (10 + 4) / 14]\r"
     ]
    },
    {
     "name": "stdout",
     "output_type": "stream",
     "text": [
      "22/08/23 16:41:15 WARN MemoryStore: Not enough space to cache rdd_107_8 in memory! (computed 22.6 MiB so far)\n",
      "22/08/23 16:41:15 WARN MemoryStore: Not enough space to cache rdd_107_9 in memory! (computed 43.9 MiB so far)\n"
     ]
    },
    {
     "name": "stderr",
     "output_type": "stream",
     "text": [
      "\r",
      "[Stage 30:================================================>       (12 + 2) / 14]\r"
     ]
    },
    {
     "name": "stdout",
     "output_type": "stream",
     "text": [
      "22/08/23 16:41:16 WARN MemoryStore: Failed to reserve initial memory threshold of 1024.0 KiB for computing block rdd_107_12 in memory.\n",
      "22/08/23 16:41:16 WARN MemoryStore: Not enough space to cache rdd_107_12 in memory! (computed 384.0 B so far)\n",
      "22/08/23 16:41:16 WARN MemoryStore: Not enough space to cache rdd_107_10 in memory! (computed 75.1 MiB so far)\n"
     ]
    },
    {
     "name": "stderr",
     "output_type": "stream",
     "text": [
      "                                                                                \r"
     ]
    },
    {
     "data": {
      "text/plain": [
       "7609145"
      ]
     },
     "execution_count": 20,
     "metadata": {},
     "output_type": "execute_result"
    }
   ],
   "source": [
    "#The reported crimes dataset has only the district number. Add the district name by joining with police station dataset\n",
    "\n",
    "rc1.cache()\n",
    "rc1.count()"
   ]
  },
  {
   "cell_type": "code",
   "execution_count": 21,
   "id": "53ffb115",
   "metadata": {},
   "outputs": [
    {
     "name": "stdout",
     "output_type": "stream",
     "text": [
      "+--------------------+\n",
      "|            DISTRICT|\n",
      "+--------------------+\n",
      "|                   7|\n",
      "|                  15|\n",
      "|                  11|\n",
      "|                   3|\n",
      "|                   8|\n",
      "|                  22|\n",
      "|                  16|\n",
      "|                   5|\n",
      "|                  18|\n",
      "|                  17|\n",
      "|                   6|\n",
      "|                  19|\n",
      "|                  25|\n",
      "|        Headquarters|\n",
      "|                  24|\n",
      "|                   9|\n",
      "|                   1|\n",
      "|                  20|\n",
      "|                  10|\n",
      "|                   4|\n",
      "|                  12|\n",
      "|                  14|\n",
      "|                   2|\n",
      "|\",Chicago,IL,6060...|\n",
      "+--------------------+\n",
      "\n"
     ]
    }
   ],
   "source": [
    "ps.select(col('DISTRICT')).distinct().show(30)"
   ]
  },
  {
   "cell_type": "code",
   "execution_count": 22,
   "id": "3ca2d326",
   "metadata": {},
   "outputs": [
    {
     "name": "stdout",
     "output_type": "stream",
     "text": [
      "22/08/23 16:41:22 WARN MemoryStore: Not enough space to cache rdd_107_2 in memory! (computed 23.0 MiB so far)\n",
      "22/08/23 16:41:22 WARN MemoryStore: Not enough space to cache rdd_107_6 in memory! (computed 22.6 MiB so far)\n",
      "22/08/23 16:41:22 WARN MemoryStore: Not enough space to cache rdd_107_4 in memory! (computed 22.5 MiB so far)\n",
      "22/08/23 16:41:22 WARN MemoryStore: Not enough space to cache rdd_107_1 in memory! (computed 44.1 MiB so far)\n"
     ]
    },
    {
     "name": "stderr",
     "output_type": "stream",
     "text": [
      "\r",
      "[Stage 36:>                                                        (0 + 8) / 14]\r"
     ]
    },
    {
     "name": "stdout",
     "output_type": "stream",
     "text": [
      "22/08/23 16:41:23 WARN MemoryStore: Not enough space to cache rdd_107_13 in memory! (computed 22.5 MiB so far)\n",
      "22/08/23 16:41:23 WARN MemoryStore: Not enough space to cache rdd_107_12 in memory! (computed 22.8 MiB so far)\n",
      "22/08/23 16:41:23 WARN MemoryStore: Not enough space to cache rdd_107_9 in memory! (computed 22.6 MiB so far)\n",
      "22/08/23 16:41:23 WARN MemoryStore: Not enough space to cache rdd_107_10 in memory! (computed 22.6 MiB so far)\n",
      "22/08/23 16:41:23 WARN MemoryStore: Not enough space to cache rdd_107_8 in memory! (computed 22.6 MiB so far)\n",
      "22/08/23 16:41:23 WARN MemoryStore: Not enough space to cache rdd_107_11 in memory! (computed 43.6 MiB so far)\n"
     ]
    },
    {
     "name": "stderr",
     "output_type": "stream",
     "text": [
      "\r",
      "[Stage 36:================================>                        (8 + 6) / 14]\r"
     ]
    },
    {
     "name": "stdout",
     "output_type": "stream",
     "text": [
      "+--------+\n",
      "|District|\n",
      "+--------+\n",
      "|     009|\n",
      "|     012|\n",
      "|     024|\n",
      "|     031|\n",
      "|     015|\n",
      "|     006|\n",
      "|     019|\n",
      "|     020|\n",
      "|     011|\n",
      "|     025|\n",
      "|District|\n",
      "|     005|\n",
      "|     003|\n",
      "|     016|\n",
      "|     018|\n",
      "|     008|\n",
      "|     022|\n",
      "|     001|\n",
      "|     014|\n",
      "|     010|\n",
      "|     004|\n",
      "|     017|\n",
      "|     007|\n",
      "|     002|\n",
      "|    null|\n",
      "|     021|\n",
      "|      16|\n",
      "+--------+\n",
      "\n"
     ]
    },
    {
     "name": "stderr",
     "output_type": "stream",
     "text": [
      "\r",
      "                                                                                \r"
     ]
    }
   ],
   "source": [
    "rc1.select('District').distinct().show(30)"
   ]
  },
  {
   "cell_type": "code",
   "execution_count": 23,
   "id": "9870c33a",
   "metadata": {},
   "outputs": [],
   "source": [
    "from pyspark.sql.functions import lpad"
   ]
  },
  {
   "cell_type": "code",
   "execution_count": 24,
   "id": "06975183",
   "metadata": {},
   "outputs": [
    {
     "name": "stdout",
     "output_type": "stream",
     "text": [
      "+--------------------+\n",
      "|lpad(DISTRICT, 3, 0)|\n",
      "+--------------------+\n",
      "|                 Hea|\n",
      "|                 018|\n",
      "|                 019|\n",
      "|                 020|\n",
      "|                 022|\n",
      "|                 024|\n",
      "|                 025|\n",
      "|                 001|\n",
      "|                 002|\n",
      "|                 003|\n",
      "|                 004|\n",
      "|                 005|\n",
      "|                 006|\n",
      "|                 007|\n",
      "|                 008|\n",
      "|                 009|\n",
      "|                 010|\n",
      "|                 011|\n",
      "|                 012|\n",
      "|                 \",C|\n",
      "|                 014|\n",
      "|                 015|\n",
      "|                 016|\n",
      "|                 017|\n",
      "+--------------------+\n",
      "\n"
     ]
    }
   ],
   "source": [
    "ps.select(lpad(col('DISTRICT'),3,'0')).show(30)"
   ]
  },
  {
   "cell_type": "code",
   "execution_count": 25,
   "id": "9965fd8c",
   "metadata": {},
   "outputs": [
    {
     "name": "stdout",
     "output_type": "stream",
     "text": [
      "+------------+-------------+-------------------+-------+-----+-----+--------------------+------------+------------+------------+------------+------------+-----------+------------+--------------------+-----------------+\n",
      "|    DISTRICT|DISTRICT NAME|            ADDRESS|   CITY|STATE|  ZIP|             WEBSITE|       PHONE|         FAX|         TTY|X COORDINATE|Y COORDINATE|   LATITUDE|   LONGITUDE|            LOCATION|Formated_district|\n",
      "+------------+-------------+-------------------+-------+-----+-----+--------------------+------------+------------+------------+------------+------------+-----------+------------+--------------------+-----------------+\n",
      "|Headquarters| Headquarters|3510 S Michigan Ave|Chicago|   IL|60653|http://home.chica...|        null|        null|        null| 1177731.401| 1881697.404|41.83070169|-87.62339535|(41.8307016873, -...|              Hea|\n",
      "|          18|   Near North| 1160 N Larrabee St|Chicago|   IL|60610|http://home.chica...|312-742-5870|312-742-5771|312-742-5773| 1172080.029| 1908086.527|41.90324165|-87.64335214|(41.9032416531, -...|              018|\n",
      "|          19|    Town Hall|   850 W Addison St|Chicago|   IL|60613|http://home.chica...|312-744-8320|312-744-4481|312-744-8011| 1169730.744| 1924160.317|41.94740046|-87.65151202|(41.9474004564, -...|              019|\n",
      "|          20|      Lincoln| 5400 N Lincoln Ave|Chicago|   IL|60625|http://home.chica...|312-742-8714|312-742-8803|312-742-8841| 1158399.146| 1935788.826|41.97954951|-87.69284451|(41.9795495131, -...|              020|\n",
      "|          22|  Morgan Park|1900 W Monterey Ave|Chicago|   IL|60643|http://home.chica...|312-745-0710|312-745-0814|312-745-0569| 1165825.476| 1830851.333|41.69143478|-87.66852039|(41.6914347795, -...|              022|\n",
      "+------------+-------------+-------------------+-------+-----+-----+--------------------+------------+------------+------------+------------+------------+-----------+------------+--------------------+-----------------+\n",
      "only showing top 5 rows\n",
      "\n"
     ]
    }
   ],
   "source": [
    "ps = ps.withColumn('Formated_district', lpad(col('DISTRICT'),3,'0'))\n",
    "ps.show(5)"
   ]
  },
  {
   "cell_type": "code",
   "execution_count": 26,
   "id": "4044f540",
   "metadata": {},
   "outputs": [
    {
     "name": "stdout",
     "output_type": "stream",
     "text": [
      "22/08/23 16:41:41 WARN package: Truncated the string representation of a plan since it was too large. This behavior can be adjusted by setting 'spark.sql.debug.maxToStringFields'.\n",
      "+--------+-----------+----+--------------------+----+------------+--------------------+--------------------+------+--------+----+--------+----+--------------+--------+------------+------------+----+--------------------+------------+-------------+--------------------+--------+-------------+--------------------+-------+-----+-----+--------------------+------------+------------+------------+------------+------------+-----------+------------+--------------------+-----------------+\n",
      "|      ID|Case Number|Date|               Block|IUCR|Primary Type|         Description|Location Description|Arrest|Domestic|Beat|District|Ward|Community Area|FBI Code|X Coordinate|Y Coordinate|Year|          Updated On|    Latitude|    Longitude|            Location|DISTRICT|DISTRICT NAME|             ADDRESS|   CITY|STATE|  ZIP|             WEBSITE|       PHONE|         FAX|         TTY|X COORDINATE|Y COORDINATE|   LATITUDE|   LONGITUDE|            LOCATION|Formated_district|\n",
      "+--------+-----------+----+--------------------+----+------------+--------------------+--------------------+------+--------+----+--------+----+--------------+--------+------------+------------+----+--------------------+------------+-------------+--------------------+--------+-------------+--------------------+-------+-----+-----+--------------------+------------+------------+------------+------------+------------+-----------+------------+--------------------+-----------------+\n",
      "|      ID|Case Number|null|               Block|IUCR|Primary Type|         Description|Location Description|Arrest|    null|Beat|District|Ward|Community Area|FBI Code|X Coordinate|Y Coordinate|null|          Updated On|        null|         null|            Location|    null|         null|                null|   null| null| null|                null|        null|        null|        null|        null|        null|       null|        null|                null|             null|\n",
      "|10224738|   HY411648|null|     043XX S WOOD ST|0486|     BATTERY|DOMESTIC BATTERY ...|           RESIDENCE| false|    true|0924|     009|  12|            61|     08B|     1165074|     1875917|2015|02/10/2018 03:50:...|41.815117282|-87.669999562|(41.815117282, -8...|       9|      Deering|   3120 S Halsted St|Chicago|   IL|60608|http://home.chica...|312-747-8227|312-747-5329|312-747-9172|  1171440.24| 1884085.224|41.83739443|-87.64640771|(41.8373944311, -...|              009|\n",
      "|10224739|   HY411615|null| 008XX N CENTRAL AVE|0870|       THEFT|      POCKET-PICKING|             CTA BUS| false|   false|1511|     015|  29|            25|      06|     1138875|     1904869|2015|02/10/2018 03:50:...|41.895080471|-87.765400451|(41.895080471, -8...|      15|       Austin|   5701 W Madison St|Chicago|   IL|60644|http://home.chica...|312-743-1440|312-743-1366|312-743-1485| 1138148.815| 1899399.078|41.88008346|-87.76819989|(41.8800834614, -...|              015|\n",
      "|11646166|   JC213529|null|082XX S INGLESIDE...|0810|       THEFT|           OVER $500|           RESIDENCE| false|    true|0631|     006|   8|            44|      06|        null|        null|2018|04/06/2019 04:04:...|        null|         null|                null|       6|      Gresham|   7808 S Halsted St|Chicago|   IL|60620|http://home.chica...|312-745-3617|312-745-3649|312-745-3639| 1172283.013| 1853022.646|41.75213684|-87.64422891|(41.7521368378, -...|              006|\n",
      "|10224740|   HY411595|null|   035XX W BARRY AVE|2023|   NARCOTICS|POSS: HEROIN(BRN/...|            SIDEWALK|  true|   false|1412|     014|  35|            21|      18|     1152037|     1920384|2015|02/10/2018 03:50:...|41.937405765|-87.716649687|(41.937405765, -8...|      14|  Shakespeare|2150 N California...|Chicago|   IL|60647|http://home.chica...|312-744-8250|312-744-2422|312-744-8260| 1157304.426| 1914481.521|41.92110332|-87.69745182|(41.9211033246, -...|              014|\n",
      "+--------+-----------+----+--------------------+----+------------+--------------------+--------------------+------+--------+----+--------+----+--------------+--------+------------+------------+----+--------------------+------------+-------------+--------------------+--------+-------------+--------------------+-------+-----+-----+--------------------+------------+------------+------------+------------+------------+-----------+------------+--------------------+-----------------+\n",
      "only showing top 5 rows\n",
      "\n"
     ]
    }
   ],
   "source": [
    "rc1.join(ps, rc1.District == ps.Formated_district, 'left_outer').show(5)"
   ]
  },
  {
   "cell_type": "code",
   "execution_count": 27,
   "id": "aa864fba",
   "metadata": {},
   "outputs": [
    {
     "name": "stdout",
     "output_type": "stream",
     "text": [
      "+--------+-----------+----+-------------------+----+------------+--------------------+--------------------+------+--------+----+--------+----+--------------+--------+----+--------------------+--------+-------------+------------+-----------------+\n",
      "|      ID|Case Number|Date|              Block|IUCR|Primary Type|         Description|Location Description|Arrest|Domestic|Beat|District|Ward|Community Area|FBI Code|Year|          Updated On|DISTRICT|DISTRICT NAME|       PHONE|Formated_district|\n",
      "+--------+-----------+----+-------------------+----+------------+--------------------+--------------------+------+--------+----+--------+----+--------------+--------+----+--------------------+--------+-------------+------------+-----------------+\n",
      "|      ID|Case Number|null|              Block|IUCR|Primary Type|         Description|Location Description|Arrest|    null|Beat|District|Ward|Community Area|FBI Code|null|          Updated On|    null|         null|        null|             null|\n",
      "|10224738|   HY411648|null|    043XX S WOOD ST|0486|     BATTERY|DOMESTIC BATTERY ...|           RESIDENCE| false|    true|0924|     009|  12|            61|     08B|2015|02/10/2018 03:50:...|       9|      Deering|312-747-8227|              009|\n",
      "|10224739|   HY411615|null|008XX N CENTRAL AVE|0870|       THEFT|      POCKET-PICKING|             CTA BUS| false|   false|1511|     015|  29|            25|      06|2015|02/10/2018 03:50:...|      15|       Austin|312-743-1440|              015|\n",
      "+--------+-----------+----+-------------------+----+------------+--------------------+--------------------+------+--------+----+--------+----+--------------+--------+----+--------------------+--------+-------------+------------+-----------------+\n",
      "only showing top 3 rows\n",
      "\n"
     ]
    }
   ],
   "source": [
    "rc1.join(ps, rc1.District == ps.Formated_district, 'left_outer').drop(\n",
    "'ADDRESS',\n",
    "'CITY',\n",
    "'STATE',\n",
    "'ZIP',\n",
    "'WEBSITE',\n",
    "'FAX',\n",
    "'TTY',\n",
    "'X COORDINATE',\n",
    "'Y COORDINATE',\n",
    "'LATITUDE',\n",
    "'LONGITUDE',\n",
    "'LOCATION').show(3)"
   ]
  },
  {
   "cell_type": "code",
   "execution_count": 28,
   "id": "9d7dfa24",
   "metadata": {},
   "outputs": [
    {
     "name": "stdout",
     "output_type": "stream",
     "text": [
      "22/08/23 16:41:48 WARN MemoryStore: Not enough space to cache rdd_107_1 in memory! (computed 22.7 MiB so far)\n",
      "22/08/23 16:41:48 WARN MemoryStore: Not enough space to cache rdd_107_4 in memory! (computed 22.5 MiB so far)\n",
      "22/08/23 16:41:48 WARN MemoryStore: Not enough space to cache rdd_107_2 in memory! (computed 23.0 MiB so far)\n",
      "22/08/23 16:41:48 WARN MemoryStore: Not enough space to cache rdd_107_6 in memory! (computed 43.8 MiB so far)\n"
     ]
    },
    {
     "name": "stderr",
     "output_type": "stream",
     "text": [
      "\r",
      "[Stage 45:================>                                        (4 + 8) / 14]\r"
     ]
    },
    {
     "name": "stdout",
     "output_type": "stream",
     "text": [
      "22/08/23 16:41:49 WARN MemoryStore: Not enough space to cache rdd_107_11 in memory! (computed 22.4 MiB so far)\n",
      "22/08/23 16:41:49 WARN MemoryStore: Not enough space to cache rdd_107_9 in memory! (computed 22.6 MiB so far)\n",
      "22/08/23 16:41:49 WARN MemoryStore: Not enough space to cache rdd_107_10 in memory! (computed 22.6 MiB so far)\n",
      "22/08/23 16:41:49 WARN MemoryStore: Not enough space to cache rdd_107_8 in memory! (computed 43.9 MiB so far)\n"
     ]
    },
    {
     "name": "stderr",
     "output_type": "stream",
     "text": [
      "\r",
      "[Stage 45:================>                                       (4 + 10) / 14]\r"
     ]
    },
    {
     "name": "stdout",
     "output_type": "stream",
     "text": [
      "22/08/23 16:41:49 WARN MemoryStore: Not enough space to cache rdd_107_13 in memory! (computed 22.5 MiB so far)\n",
      "22/08/23 16:41:49 WARN MemoryStore: Not enough space to cache rdd_107_12 in memory! (computed 22.8 MiB so far)\n"
     ]
    },
    {
     "name": "stderr",
     "output_type": "stream",
     "text": [
      "                                                                                \r"
     ]
    },
    {
     "data": {
      "text/plain": [
       "37"
      ]
     },
     "execution_count": 28,
     "metadata": {},
     "output_type": "execute_result"
    }
   ],
   "source": [
    "rc1.select(col('Primary Type')).distinct().count()"
   ]
  },
  {
   "cell_type": "code",
   "execution_count": 30,
   "id": "2b685779",
   "metadata": {},
   "outputs": [
    {
     "name": "stdout",
     "output_type": "stream",
     "text": [
      "22/08/23 16:42:06 WARN MemoryStore: Not enough space to cache rdd_107_2 in memory! (computed 23.0 MiB so far)\n",
      "22/08/23 16:42:06 WARN MemoryStore: Not enough space to cache rdd_107_1 in memory! (computed 22.7 MiB so far)\n",
      "22/08/23 16:42:06 WARN MemoryStore: Not enough space to cache rdd_107_6 in memory! (computed 22.6 MiB so far)\n",
      "22/08/23 16:42:06 WARN MemoryStore: Not enough space to cache rdd_107_4 in memory! (computed 22.5 MiB so far)\n"
     ]
    },
    {
     "name": "stderr",
     "output_type": "stream",
     "text": [
      "[Stage 57:================================>                        (8 + 6) / 14]\r"
     ]
    },
    {
     "name": "stdout",
     "output_type": "stream",
     "text": [
      "22/08/23 16:42:07 WARN MemoryStore: Not enough space to cache rdd_107_11 in memory! (computed 22.4 MiB so far)\n",
      "22/08/23 16:42:07 WARN MemoryStore: Not enough space to cache rdd_107_12 in memory! (computed 22.8 MiB so far)\n",
      "22/08/23 16:42:07 WARN MemoryStore: Not enough space to cache rdd_107_8 in memory! (computed 22.6 MiB so far)\n",
      "22/08/23 16:42:07 WARN MemoryStore: Not enough space to cache rdd_107_9 in memory! (computed 22.6 MiB so far)\n",
      "22/08/23 16:42:07 WARN MemoryStore: Not enough space to cache rdd_107_10 in memory! (computed 22.6 MiB so far)\n",
      "+--------------------+\n",
      "|        Primary Type|\n",
      "+--------------------+\n",
      "|OFFENSE INVOLVING...|\n",
      "|CRIMINAL SEXUAL A...|\n",
      "|            STALKING|\n",
      "|PUBLIC PEACE VIOL...|\n",
      "|           OBSCENITY|\n",
      "|NON-CRIMINAL (SUB...|\n",
      "|               ARSON|\n",
      "|            GAMBLING|\n",
      "|   CRIMINAL TRESPASS|\n",
      "|             ASSAULT|\n",
      "|      NON - CRIMINAL|\n",
      "|LIQUOR LAW VIOLATION|\n",
      "| MOTOR VEHICLE THEFT|\n",
      "|               THEFT|\n",
      "|             BATTERY|\n",
      "|             ROBBERY|\n",
      "|            HOMICIDE|\n",
      "|    PUBLIC INDECENCY|\n",
      "| CRIM SEXUAL ASSAULT|\n",
      "|   HUMAN TRAFFICKING|\n",
      "+--------------------+\n",
      "only showing top 20 rows\n",
      "\n"
     ]
    },
    {
     "name": "stderr",
     "output_type": "stream",
     "text": [
      "\r",
      "                                                                                \r"
     ]
    }
   ],
   "source": [
    "rc1.select(col('Primary Type')).distinct().show()"
   ]
  },
  {
   "cell_type": "code",
   "execution_count": 33,
   "id": "66a12661",
   "metadata": {},
   "outputs": [
    {
     "name": "stdout",
     "output_type": "stream",
     "text": [
      "22/08/23 16:45:27 WARN MemoryStore: Not enough space to cache rdd_107_4 in memory! (computed 22.5 MiB so far)\n",
      "22/08/23 16:45:27 WARN MemoryStore: Not enough space to cache rdd_107_2 in memory! (computed 23.0 MiB so far)\n",
      "22/08/23 16:45:27 WARN MemoryStore: Not enough space to cache rdd_107_6 in memory! (computed 22.6 MiB so far)\n",
      "22/08/23 16:45:27 WARN MemoryStore: Not enough space to cache rdd_107_1 in memory! (computed 22.7 MiB so far)\n"
     ]
    },
    {
     "name": "stderr",
     "output_type": "stream",
     "text": [
      "\r",
      "[Stage 66:>                                                        (0 + 9) / 14]\r",
      "\r",
      "[Stage 66:================================>                        (8 + 6) / 14]\r"
     ]
    },
    {
     "name": "stdout",
     "output_type": "stream",
     "text": [
      "22/08/23 16:45:27 WARN MemoryStore: Not enough space to cache rdd_107_10 in memory! (computed 22.6 MiB so far)\n",
      "22/08/23 16:45:27 WARN MemoryStore: Not enough space to cache rdd_107_11 in memory! (computed 22.4 MiB so far)\n",
      "22/08/23 16:45:27 WARN MemoryStore: Not enough space to cache rdd_107_8 in memory! (computed 22.6 MiB so far)\n",
      "22/08/23 16:45:27 WARN MemoryStore: Not enough space to cache rdd_107_9 in memory! (computed 22.6 MiB so far)\n",
      "22/08/23 16:45:28 WARN MemoryStore: Not enough space to cache rdd_107_12 in memory! (computed 22.8 MiB so far)\n"
     ]
    },
    {
     "name": "stderr",
     "output_type": "stream",
     "text": [
      "\r",
      "[Stage 66:====================================>                    (9 + 5) / 14]\r"
     ]
    },
    {
     "name": "stdout",
     "output_type": "stream",
     "text": [
      "+---------------------------------+\n",
      "|Primary Type                     |\n",
      "+---------------------------------+\n",
      "|ARSON                            |\n",
      "|ASSAULT                          |\n",
      "|BATTERY                          |\n",
      "|BURGLARY                         |\n",
      "|CONCEALED CARRY LICENSE VIOLATION|\n",
      "|CRIM SEXUAL ASSAULT              |\n",
      "|CRIMINAL DAMAGE                  |\n",
      "|CRIMINAL SEXUAL ASSAULT          |\n",
      "|CRIMINAL TRESPASS                |\n",
      "|DECEPTIVE PRACTICE               |\n",
      "|DOMESTIC VIOLENCE                |\n",
      "|GAMBLING                         |\n",
      "|HOMICIDE                         |\n",
      "|HUMAN TRAFFICKING                |\n",
      "|INTERFERENCE WITH PUBLIC OFFICER |\n",
      "|INTIMIDATION                     |\n",
      "|KIDNAPPING                       |\n",
      "|LIQUOR LAW VIOLATION             |\n",
      "|MOTOR VEHICLE THEFT              |\n",
      "|NARCOTICS                        |\n",
      "|NON - CRIMINAL                   |\n",
      "|NON-CRIMINAL                     |\n",
      "|NON-CRIMINAL (SUBJECT SPECIFIED) |\n",
      "|OBSCENITY                        |\n",
      "|OFFENSE INVOLVING CHILDREN       |\n",
      "|OTHER NARCOTIC VIOLATION         |\n",
      "|OTHER OFFENSE                    |\n",
      "|PROSTITUTION                     |\n",
      "|PUBLIC INDECENCY                 |\n",
      "|PUBLIC PEACE VIOLATION           |\n",
      "|Primary Type                     |\n",
      "|RITUALISM                        |\n",
      "|ROBBERY                          |\n",
      "|SEX OFFENSE                      |\n",
      "|STALKING                         |\n",
      "+---------------------------------+\n",
      "only showing top 35 rows\n",
      "\n"
     ]
    },
    {
     "name": "stderr",
     "output_type": "stream",
     "text": [
      "\r",
      "                                                                                \r"
     ]
    }
   ],
   "source": [
    "rc1.select(col('Primary Type')).distinct().orderBy(col('Primary Type')).show(35, truncate=False)#fetches the columns based on asce identify NON criminary activities"
   ]
  },
  {
   "cell_type": "code",
   "execution_count": 34,
   "id": "326faeba",
   "metadata": {},
   "outputs": [
    {
     "name": "stdout",
     "output_type": "stream",
     "text": [
      "+--------+-----------+----+--------------------+----+--------------------+--------------------+--------------------+------+--------+----+--------+----+--------------+--------+------------+------------+----+--------------------+------------+-------------+--------------------+\n",
      "|      ID|Case Number|Date|               Block|IUCR|        Primary Type|         Description|Location Description|Arrest|Domestic|Beat|District|Ward|Community Area|FBI Code|X Coordinate|Y Coordinate|Year|          Updated On|    Latitude|    Longitude|            Location|\n",
      "+--------+-----------+----+--------------------+----+--------------------+--------------------+--------------------+------+--------+----+--------+----+--------------+--------+------------+------------+----+--------------------+------------+-------------+--------------------+\n",
      "|10233370|   HY421530|null|  010XX S MENARD AVE|5114|      NON - CRIMINAL|   FOID - REVOCATION|           RESIDENCE|  true|   false|1513|     015|  29|            25|      26|     1137869|     1895239|2015|02/10/2018 03:50:...|41.868672696|-87.769327726|(41.868672696, -8...|\n",
      "|10241515|   HY429346|null|051XX N MILWAUKEE...|5114|      NON - CRIMINAL|   FOID - REVOCATION|POLICE FACILITY/V...|  true|   false|1623|     016|  45|            11|      26|     1138424|     1933673|2015|02/10/2018 03:50:...|41.974129858|-87.766357256|(41.974129858, -8...|\n",
      "|10277370|   HY465290|null|    100XX W OHARE ST|5093|        NON-CRIMINAL|       LOST PASSPORT|            AIRCRAFT| false|   false|1651|     016|  41|            76|      26|     1100658|     1934241|2015|02/10/2018 03:50:...|41.976290414|-87.905227221|(41.976290414, -8...|\n",
      "|10280097|   HY468448|null|   033XX W OGDEN AVE|5114|      NON - CRIMINAL|   FOID - REVOCATION|POLICE FACILITY/V...| false|   false|1024|     010|  24|            29|      26|     1154489|     1891024|2015|02/10/2018 03:50:...|41.856790413|-87.708424071|(41.856790413, -8...|\n",
      "|10290745|   HY478502|null|004XX W DIVERSEY ...|5093|        NON-CRIMINAL|       LOST PASSPORT|            SIDEWALK| false|   false|1934|     019|  44|             6|      26|     1172533|     1918887|2015|02/10/2018 03:50:...|41.932868651|-87.641368196|(41.932868651, -8...|\n",
      "|10296800|   HY485235|null|008XX N MAPLEWOOD...|5093|        NON-CRIMINAL|       LOST PASSPORT|            SIDEWALK| false|   false|1211|     012|   1|            24|      26|     1159246|     1905582|2015|02/10/2018 03:50:...|41.896642608|-87.690563055|(41.896642608, -8...|\n",
      "|10300617|   HY489191|null|  031XX S HALSTED ST|5114|      NON - CRIMINAL|   FOID - REVOCATION|           RESIDENCE| false|   false|0913|     009|  11|            60|      26|     1171479|     1884120|2015|02/10/2018 03:50:...|41.837489008|-87.646264459|(41.837489008, -8...|\n",
      "|10325994|   HY516457|null|  001XX W HUBBARD ST|5093|        NON-CRIMINAL|       LOST PASSPORT|          RESTAURANT| false|   false|1831|     018|  42|             8|      26|     1175301|     1903292|2015|02/10/2018 03:50:...|41.890013524|-87.631664996|(41.890013524, -8...|\n",
      "|10157940|   HY347539|null| 016XX W CHICAGO AVE|5093|        NON-CRIMINAL|       LOST PASSPORT|              STREET| false|   false|1215|     012|   1|            24|      26|     1165158|     1905410|2015|02/10/2018 03:50:...|41.896047034|-87.668854221|(41.896047034, -8...|\n",
      "|10181019|   HY369010|null|  079XX S KEDZIE AVE|5114|      NON - CRIMINAL|   FOID - REVOCATION|           RESIDENCE| false|   false|0835|     008|  18|            70|      26|     1156427|     1851731|2015|02/10/2018 03:50:...|41.748926157| -87.70236927|(41.748926157, -8...|\n",
      "|11249289|   JB176638|null| 0000X N CENTRAL AVE|5093|        NON-CRIMINAL|       LOST PASSPORT|           RESIDENCE| false|   false|1513|     015|  29|            25|      26|        null|        null|2016|03/08/2018 03:55:...|        null|         null|                null|\n",
      "|10202049|   HY389275|null|025XX W MARQUETTE RD|5114|      NON - CRIMINAL|   FOID - REVOCATION|           APARTMENT| false|   false|0832|     008|  15|            66|      26|     1160388|     1860136|2015|02/10/2018 03:50:...|41.771910102|-87.687623385|(41.771910102, -8...|\n",
      "|10813751|   JA113073|null| 029XX N MELVINA AVE|5093|        NON-CRIMINAL|       LOST PASSPORT|           RESIDENCE| false|   false|2511|     025|  29|            19|      26|        null|        null|2003|01/14/2017 03:49:...|        null|         null|                null|\n",
      "|10212100|   HY398571|null|    017XX S STATE ST|0585|        NON-CRIMINAL|NOTIFICATION OF S...|POLICE FACILITY/V...|  true|   false|0131|     001|   3|            33|      26|     1176607|     1891853|2015|02/10/2018 03:50:...|41.858594819|-87.627214427|(41.858594819, -8...|\n",
      "|10213039|   HY398172|null| 0000X W TERMINAL ST|5093|        NON-CRIMINAL|       LOST PASSPORT|AIRPORT TERMINAL ...| false|   false|1653|     016|  41|            76|      26|     1101811|     1934419|2015|02/10/2018 03:50:...|41.976762981|-87.900983721|(41.976762981, -8...|\n",
      "|10221247|   HY406742|null| 031XX W HARRISON ST|5114|      NON - CRIMINAL|   FOID - REVOCATION|POLICE FACILITY/V...| false|   false|1134|     011|  24|            27|      26|     1155457|     1897193|2015|02/10/2018 03:50:...|41.873699424|-87.704705156|(41.873699424, -8...|\n",
      "|10336794|   HY527983|null|    006XX N STATE ST|5093|        NON-CRIMINAL|       LOST PASSPORT|               OTHER| false|   false|1832|     018|  42|             8|      26|     1176262|     1904268|2015|02/10/2018 03:50:...|  41.8926701|-87.628106353|(41.8926701, -87....|\n",
      "|10344075|   HY535016|null|     025XX W 80TH PL|5114|      NON - CRIMINAL|   FOID - REVOCATION|VEHICLE NON-COMME...| false|   false|0835|     008|  18|            70|      26|     1160683|     1851174|2015|02/10/2018 03:50:...|41.747310961| -87.68678891|(41.747310961, -8...|\n",
      "|10351482|   HY541941|null|    100XX W OHARE ST|5093|        NON-CRIMINAL|       LOST PASSPORT|AIRPORT TERMINAL ...| false|   false|1651|     016|  41|            76|      26|     1100658|     1934241|2015|02/10/2018 03:50:...|41.976290414|-87.905227221|(41.976290414, -8...|\n",
      "|10371674|   HZ107512|null|051XX S WENTWORTH...|5073|NON-CRIMINAL (SUB...|NOTIFICATION OF C...|JAIL / LOCK-UP FA...| false|    true|0225|     002|   3|            37|      26|     1175826|     1871120|2016|02/10/2018 03:50:...| 41.80171934|-87.630703621|(41.80171934, -87...|\n",
      "+--------+-----------+----+--------------------+----+--------------------+--------------------+--------------------+------+--------+----+--------+----+--------------+--------+------------+------------+----+--------------------+------------+-------------+--------------------+\n",
      "only showing top 20 rows\n",
      "\n"
     ]
    },
    {
     "name": "stderr",
     "output_type": "stream",
     "text": [
      "\r",
      "[Stage 69:>                                                         (0 + 1) / 1]\r",
      "\r",
      "                                                                                \r"
     ]
    }
   ],
   "source": [
    "nc = rc1.filter((col('Primary Type') == 'NON - CRIMINAL') | \n",
    "(col('Primary Type') == 'NON-CRIMINAL') | (col('Primary Type') == 'NON-CRIMINAL (SUBJECT SPECIFIED)'))\n",
    "nc.show(20)"
   ]
  },
  {
   "cell_type": "code",
   "execution_count": 36,
   "id": "aa4dcdda",
   "metadata": {},
   "outputs": [
    {
     "name": "stdout",
     "output_type": "stream",
     "text": [
      "22/08/23 16:56:11 WARN MemoryStore: Not enough space to cache rdd_107_2 in memory! (computed 23.0 MiB so far)\n",
      "22/08/23 16:56:11 WARN MemoryStore: Not enough space to cache rdd_107_4 in memory! (computed 22.5 MiB so far)\n",
      "22/08/23 16:56:11 WARN MemoryStore: Not enough space to cache rdd_107_1 in memory! (computed 22.7 MiB so far)\n",
      "22/08/23 16:56:11 WARN MemoryStore: Not enough space to cache rdd_107_6 in memory! (computed 22.6 MiB so far)\n"
     ]
    },
    {
     "name": "stderr",
     "output_type": "stream",
     "text": [
      "\r",
      "[Stage 73:====>                                                   (1 + 10) / 14]\r",
      "\r",
      "[Stage 73:========================>                                (6 + 8) / 14]\r"
     ]
    },
    {
     "name": "stdout",
     "output_type": "stream",
     "text": [
      "22/08/23 16:56:12 WARN MemoryStore: Not enough space to cache rdd_107_10 in memory! (computed 22.6 MiB so far)\n",
      "22/08/23 16:56:12 WARN MemoryStore: Not enough space to cache rdd_107_9 in memory! (computed 22.6 MiB so far)\n",
      "22/08/23 16:56:12 WARN MemoryStore: Not enough space to cache rdd_107_8 in memory! (computed 22.6 MiB so far)\n"
     ]
    },
    {
     "name": "stderr",
     "output_type": "stream",
     "text": [
      "\r",
      "[Stage 73:================================>                        (8 + 6) / 14]\r"
     ]
    },
    {
     "name": "stdout",
     "output_type": "stream",
     "text": [
      "22/08/23 16:56:12 WARN MemoryStore: Not enough space to cache rdd_107_11 in memory! (computed 22.4 MiB so far)\n",
      "22/08/23 16:56:12 WARN MemoryStore: Not enough space to cache rdd_107_12 in memory! (computed 22.8 MiB so far)\n"
     ]
    },
    {
     "name": "stderr",
     "output_type": "stream",
     "text": [
      "\r",
      "[Stage 73:====================================>                    (9 + 5) / 14]\r"
     ]
    },
    {
     "name": "stdout",
     "output_type": "stream",
     "text": [
      "+--------------------+-----+\n",
      "|         Description|count|\n",
      "+--------------------+-----+\n",
      "|       LOST PASSPORT|  111|\n",
      "|   FOID - REVOCATION|   76|\n",
      "|CONCEALED CARRY L...|   14|\n",
      "|NOTIFICATION OF C...|    9|\n",
      "|NOTIFICATION OF S...|    8|\n",
      "|      FOUND PASSPORT|    4|\n",
      "|GUN OFFENDER NOTI...|    3|\n",
      "+--------------------+-----+\n",
      "\n"
     ]
    },
    {
     "name": "stderr",
     "output_type": "stream",
     "text": [
      "\r",
      "                                                                                \r"
     ]
    }
   ],
   "source": [
    "nc.groupBy(col('Description')).count().orderBy('count',ascending=False).show()"
   ]
  },
  {
   "cell_type": "code",
   "execution_count": 37,
   "id": "f86ca299",
   "metadata": {},
   "outputs": [],
   "source": [
    "#which day of the week has the most number of reported crimes\n",
    "from pyspark.sql.functions import dayofweek"
   ]
  },
  {
   "cell_type": "code",
   "execution_count": 38,
   "id": "395a0f7d",
   "metadata": {},
   "outputs": [
    {
     "name": "stdout",
     "output_type": "stream",
     "text": [
      "Help on function dayofweek in module pyspark.sql.functions:\n",
      "\n",
      "dayofweek(col: 'ColumnOrName') -> pyspark.sql.column.Column\n",
      "    Extract the day of the week of a given date as integer.\n",
      "    Ranges from 1 for a Sunday through to 7 for a Saturday\n",
      "    \n",
      "    .. versionadded:: 2.3.0\n",
      "    \n",
      "    Examples\n",
      "    --------\n",
      "    >>> df = spark.createDataFrame([('2015-04-08',)], ['dt'])\n",
      "    >>> df.select(dayofweek('dt').alias('day')).collect()\n",
      "    [Row(day=4)]\n",
      "\n"
     ]
    }
   ],
   "source": [
    "help(dayofweek)"
   ]
  },
  {
   "cell_type": "code",
   "execution_count": 40,
   "id": "80ff313e",
   "metadata": {},
   "outputs": [
    {
     "name": "stdout",
     "output_type": "stream",
     "text": [
      "+--------+-----------+----+--------------------+----+------------+--------------------+--------------------+------+--------+----+--------+----+--------------+--------+------------+------------+----+--------------------+------------+-------------+--------------------+\n",
      "|      ID|Case Number|Date|               Block|IUCR|Primary Type|         Description|Location Description|Arrest|Domestic|Beat|District|Ward|Community Area|FBI Code|X Coordinate|Y Coordinate|Year|          Updated On|    Latitude|    Longitude|            Location|\n",
      "+--------+-----------+----+--------------------+----+------------+--------------------+--------------------+------+--------+----+--------+----+--------------+--------+------------+------------+----+--------------------+------------+-------------+--------------------+\n",
      "|      ID|Case Number|null|               Block|IUCR|Primary Type|         Description|Location Description|Arrest|    null|Beat|District|Ward|Community Area|FBI Code|X Coordinate|Y Coordinate|null|          Updated On|        null|         null|            Location|\n",
      "|10224738|   HY411648|null|     043XX S WOOD ST|0486|     BATTERY|DOMESTIC BATTERY ...|           RESIDENCE| false|    true|0924|     009|  12|            61|     08B|     1165074|     1875917|2015|02/10/2018 03:50:...|41.815117282|-87.669999562|(41.815117282, -8...|\n",
      "|10224739|   HY411615|null| 008XX N CENTRAL AVE|0870|       THEFT|      POCKET-PICKING|             CTA BUS| false|   false|1511|     015|  29|            25|      06|     1138875|     1904869|2015|02/10/2018 03:50:...|41.895080471|-87.765400451|(41.895080471, -8...|\n",
      "|11646166|   JC213529|null|082XX S INGLESIDE...|0810|       THEFT|           OVER $500|           RESIDENCE| false|    true|0631|     006|   8|            44|      06|        null|        null|2018|04/06/2019 04:04:...|        null|         null|                null|\n",
      "|10224740|   HY411595|null|   035XX W BARRY AVE|2023|   NARCOTICS|POSS: HEROIN(BRN/...|            SIDEWALK|  true|   false|1412|     014|  35|            21|      18|     1152037|     1920384|2015|02/10/2018 03:50:...|41.937405765|-87.716649687|(41.937405765, -8...|\n",
      "+--------+-----------+----+--------------------+----+------------+--------------------+--------------------+------+--------+----+--------+----+--------------+--------+------------+------------+----+--------------------+------------+-------------+--------------------+\n",
      "only showing top 5 rows\n",
      "\n"
     ]
    }
   ],
   "source": [
    "rc1.show(5)"
   ]
  },
  {
   "cell_type": "code",
   "execution_count": 43,
   "id": "f0ccfeeb",
   "metadata": {},
   "outputs": [
    {
     "name": "stdout",
     "output_type": "stream",
     "text": [
      "+----+---------------+\n",
      "|Date|dayofweek(Date)|\n",
      "+----+---------------+\n",
      "|null|           null|\n",
      "|null|           null|\n",
      "|null|           null|\n",
      "|null|           null|\n",
      "|null|           null|\n",
      "|null|           null|\n",
      "|null|           null|\n",
      "|null|           null|\n",
      "|null|           null|\n",
      "|null|           null|\n",
      "|null|           null|\n",
      "|null|           null|\n",
      "|null|           null|\n",
      "|null|           null|\n",
      "|null|           null|\n",
      "|null|           null|\n",
      "|null|           null|\n",
      "|null|           null|\n",
      "|null|           null|\n",
      "|null|           null|\n",
      "+----+---------------+\n",
      "only showing top 20 rows\n",
      "\n"
     ]
    }
   ],
   "source": [
    "rc1.select(col('Date'),dayofweek(col('Date'))).show()"
   ]
  },
  {
   "cell_type": "code",
   "execution_count": 45,
   "id": "3b4c19be",
   "metadata": {},
   "outputs": [
    {
     "name": "stdout",
     "output_type": "stream",
     "text": [
      "+----+---------------+--------------------+\n",
      "|Date|dayofweek(Date)|date_format(Date, E)|\n",
      "+----+---------------+--------------------+\n",
      "|null|           null|                null|\n",
      "|null|           null|                null|\n",
      "|null|           null|                null|\n",
      "|null|           null|                null|\n",
      "|null|           null|                null|\n",
      "|null|           null|                null|\n",
      "|null|           null|                null|\n",
      "|null|           null|                null|\n",
      "|null|           null|                null|\n",
      "|null|           null|                null|\n",
      "|null|           null|                null|\n",
      "|null|           null|                null|\n",
      "|null|           null|                null|\n",
      "|null|           null|                null|\n",
      "|null|           null|                null|\n",
      "|null|           null|                null|\n",
      "|null|           null|                null|\n",
      "|null|           null|                null|\n",
      "|null|           null|                null|\n",
      "|null|           null|                null|\n",
      "+----+---------------+--------------------+\n",
      "only showing top 20 rows\n",
      "\n"
     ]
    }
   ],
   "source": [
    "from pyspark.sql.functions import date_format\n",
    "rc1.select(col('Date'),dayofweek(col('Date')), date_format(col('Date'),'E')).show()"
   ]
  },
  {
   "cell_type": "code",
   "execution_count": 48,
   "id": "e0470edc",
   "metadata": {
    "scrolled": true
   },
   "outputs": [
    {
     "name": "stdout",
     "output_type": "stream",
     "text": [
      "22/08/23 17:28:59 WARN MemoryStore: Not enough space to cache rdd_107_2 in memory! (computed 44.6 MiB so far)\n",
      "22/08/23 17:28:59 WARN MemoryStore: Not enough space to cache rdd_107_6 in memory! (computed 22.6 MiB so far)\n",
      "22/08/23 17:28:59 WARN MemoryStore: Not enough space to cache rdd_107_4 in memory! (computed 43.8 MiB so far)\n",
      "22/08/23 17:28:59 WARN MemoryStore: Not enough space to cache rdd_107_1 in memory! (computed 44.1 MiB so far)\n",
      "22/08/23 17:28:59 WARN MemoryStore: Not enough space to cache rdd_107_7 in memory! (computed 22.6 MiB so far)\n"
     ]
    },
    {
     "name": "stderr",
     "output_type": "stream",
     "text": [
      "\r",
      "[Stage 85:>                                                        (0 + 8) / 14]\r",
      "\r",
      "[Stage 85:================================>                        (8 + 6) / 14]\r"
     ]
    },
    {
     "name": "stdout",
     "output_type": "stream",
     "text": [
      "22/08/23 17:28:59 WARN MemoryStore: Not enough space to cache rdd_107_13 in memory! (computed 22.5 MiB so far)\n",
      "22/08/23 17:28:59 WARN MemoryStore: Not enough space to cache rdd_107_11 in memory! (computed 22.4 MiB so far)\n",
      "22/08/23 17:28:59 WARN MemoryStore: Not enough space to cache rdd_107_9 in memory! (computed 43.9 MiB so far)\n",
      "22/08/23 17:28:59 WARN MemoryStore: Not enough space to cache rdd_107_10 in memory! (computed 43.3 MiB so far)\n",
      "22/08/23 17:28:59 WARN MemoryStore: Not enough space to cache rdd_107_12 in memory! (computed 43.9 MiB so far)\n",
      "22/08/23 17:28:59 WARN MemoryStore: Not enough space to cache rdd_107_8 in memory! (computed 43.9 MiB so far)\n",
      "+--------------------+-------+\n",
      "|date_format(Date, E)|  count|\n",
      "+--------------------+-------+\n",
      "|                null|7609145|\n",
      "+--------------------+-------+\n",
      "\n"
     ]
    },
    {
     "name": "stderr",
     "output_type": "stream",
     "text": [
      "\r",
      "                                                                                \r"
     ]
    },
    {
     "name": "stdout",
     "output_type": "stream",
     "text": [
      "22/08/23 23:48:44 WARN HeartbeatReceiver: Removing executor driver with no recent heartbeats: 1017249 ms exceeds timeout 120000 ms\n",
      "22/08/23 23:48:44 WARN SparkContext: Killing executors is not supported by current scheduler.\n"
     ]
    }
   ],
   "source": [
    "rc1.groupBy(date_format(col('Date'),'E')).count().orderBy('count', ascending=False).show()#.count().collect()"
   ]
  },
  {
   "cell_type": "code",
   "execution_count": 56,
   "id": "3b38761c",
   "metadata": {},
   "outputs": [
    {
     "ename": "AttributeError",
     "evalue": "'SparkSession' object has no attribute 'textFile'",
     "output_type": "error",
     "traceback": [
      "\u001b[0;31m---------------------------------------------------------------------------\u001b[0m",
      "\u001b[0;31mAttributeError\u001b[0m                            Traceback (most recent call last)",
      "Input \u001b[0;32mIn [56]\u001b[0m, in \u001b[0;36m<cell line: 2>\u001b[0;34m()\u001b[0m\n\u001b[1;32m      1\u001b[0m \u001b[38;5;66;03m#RDD Steup\u001b[39;00m\n\u001b[0;32m----> 2\u001b[0m ps_rdd \u001b[38;5;241m=\u001b[39m \u001b[43mspark\u001b[49m\u001b[38;5;241;43m.\u001b[39;49m\u001b[43mtextFile\u001b[49m(\u001b[38;5;124m'\u001b[39m\u001b[38;5;124m/Users/Vijayashanthi_Dhodam/Downloads/Police_Stations.csv\u001b[39m\u001b[38;5;124m'\u001b[39m)\u001b[38;5;66;03m#, header= True))\u001b[39;00m\n\u001b[1;32m      3\u001b[0m ps_rdd\u001b[38;5;241m.\u001b[39mfirst()\n",
      "\u001b[0;31mAttributeError\u001b[0m: 'SparkSession' object has no attribute 'textFile'"
     ]
    }
   ],
   "source": [
    "#RDD Steup\n",
    "ps_rdd = spark.textFile('/Users/Vijayashanthi_Dhodam/Downloads/Police_Stations.csv')#, header= True))\n",
    "ps_rdd.first()"
   ]
  },
  {
   "cell_type": "code",
   "execution_count": null,
   "id": "cc0adb82",
   "metadata": {},
   "outputs": [],
   "source": []
  }
 ],
 "metadata": {
  "kernelspec": {
   "display_name": "Python 3 (ipykernel)",
   "language": "python",
   "name": "python3"
  },
  "language_info": {
   "codemirror_mode": {
    "name": "ipython",
    "version": 3
   },
   "file_extension": ".py",
   "mimetype": "text/x-python",
   "name": "python",
   "nbconvert_exporter": "python",
   "pygments_lexer": "ipython3",
   "version": "3.9.12"
  }
 },
 "nbformat": 4,
 "nbformat_minor": 5
}
